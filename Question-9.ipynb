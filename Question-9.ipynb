{
 "cells": [
  {
   "cell_type": "code",
   "execution_count": 1,
   "id": "f4826551",
   "metadata": {},
   "outputs": [
    {
     "name": "stdout",
     "output_type": "stream",
     "text": [
      "Enter the number of students: 4\n",
      "Enter the weights of 4 students\n",
      "150\n",
      "155\n",
      "145\n",
      "148\n",
      "4 students weights in lbs [150, 155, 145, 148]\n",
      "4 students weights in kgs [68.0388, 70.30676, 65.77083999999999, 67.131616]\n"
     ]
    }
   ],
   "source": [
    "N = int(input(\"Enter the number of students: \"))\n",
    "\n",
    "weights_lbs = []\n",
    "print(\"Enter the weights of {} students\".format(N))\n",
    "\n",
    "for i in range(0, N):\n",
    "    weight_lb = int(input())\n",
    "    weights_lbs.append(weight_lb)\n",
    "print(\"{} students weights in lbs {}\".format(N, weights_lbs))\n",
    "\n",
    "weights_kgs = [i * 0.453592 for i in weights_lbs]\n",
    "print(N, \"students weights in kgs\", weights_kgs)"
   ]
  },
  {
   "cell_type": "code",
   "execution_count": null,
   "id": "5aa45d60",
   "metadata": {},
   "outputs": [],
   "source": []
  },
  {
   "cell_type": "code",
   "execution_count": null,
   "id": "4ef76df2",
   "metadata": {},
   "outputs": [],
   "source": []
  },
  {
   "cell_type": "code",
   "execution_count": null,
   "id": "30c6acde",
   "metadata": {},
   "outputs": [],
   "source": []
  },
  {
   "cell_type": "code",
   "execution_count": null,
   "id": "64cdb5f5",
   "metadata": {},
   "outputs": [],
   "source": []
  },
  {
   "cell_type": "code",
   "execution_count": null,
   "id": "4c51549b",
   "metadata": {},
   "outputs": [],
   "source": []
  },
  {
   "cell_type": "code",
   "execution_count": null,
   "id": "f2da2f64",
   "metadata": {},
   "outputs": [],
   "source": []
  }
 ],
 "metadata": {
  "kernelspec": {
   "display_name": "Python 3 (ipykernel)",
   "language": "python",
   "name": "python3"
  },
  "language_info": {
   "codemirror_mode": {
    "name": "ipython",
    "version": 3
   },
   "file_extension": ".py",
   "mimetype": "text/x-python",
   "name": "python",
   "nbconvert_exporter": "python",
   "pygments_lexer": "ipython3",
   "version": "3.9.12"
  }
 },
 "nbformat": 4,
 "nbformat_minor": 5
}
